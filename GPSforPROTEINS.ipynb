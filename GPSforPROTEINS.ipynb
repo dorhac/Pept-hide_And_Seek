{
  "nbformat": 4,
  "nbformat_minor": 0,
  "metadata": {
    "colab": {
      "name": "GPSforPROTEINS.ipynb",
      "version": "0.3.2",
      "provenance": [],
      "collapsed_sections": [],
      "toc_visible": true
    },
    "kernelspec": {
      "name": "python3",
      "display_name": "Python 3"
    },
    "accelerator": "GPU"
  },
  "cells": [
    {
      "metadata": {
        "id": "sW2oiKDgGOgP",
        "colab_type": "text"
      },
      "cell_type": "markdown",
      "source": [
        "\n",
        "\n",
        "\n",
        "#Imports\n",
        "\n",
        "\n"
      ]
    },
    {
      "metadata": {
        "id": "6RUUBRA8GHoo",
        "colab_type": "code",
        "colab": {
          "base_uri": "https://localhost:8080/",
          "height": 34
        },
        "outputId": "adaccabf-9692-4df2-db72-ccd0fac9fead"
      },
      "cell_type": "code",
      "source": [
        "import numpy as np\n",
        "import pandas as pd\n",
        "import tensorflow as tf\n",
        "from matplotlib import pyplot as plt\n",
        "from collections import Counter\n",
        "from sklearn.model_selection import train_test_split\n",
        "from sklearn.metrics import log_loss\n",
        "from keras.models import Sequential\n",
        "from keras.layers import LSTM, Dense, BatchNormalization, Dropout,Embedding,Flatten\n",
        "from keras import optimizers\n",
        "from keras.utils import to_categorical\n",
        "import tensorflow as tf\n",
        "from sklearn.tree import DecisionTreeClassifier\n",
        "from sklearn.metrics import accuracy_score\n",
        "from sklearn import tree\n",
        "import gc"
      ],
      "execution_count": 2,
      "outputs": [
        {
          "output_type": "stream",
          "text": [
            "Using TensorFlow backend.\n"
          ],
          "name": "stderr"
        }
      ]
    },
    {
      "metadata": {
        "id": "rQdttm65GxQV",
        "colab_type": "text"
      },
      "cell_type": "markdown",
      "source": [
        "#Fetch data"
      ]
    },
    {
      "metadata": {
        "id": "5PWoJXHRG0PW",
        "colab_type": "code",
        "colab": {
          "base_uri": "https://localhost:8080/",
          "height": 1377
        },
        "outputId": "a6d9d79e-b67f-48ec-d2ba-a83a380a1746"
      },
      "cell_type": "code",
      "source": [
        "!wget http://www.cs.ucl.ac.uk/staff/D.Jones/coursework/cyto.fasta\n",
        "!wget http://www.cs.ucl.ac.uk/staff/D.Jones/coursework/secreted.fasta\n",
        "!wget http://www.cs.ucl.ac.uk/staff/D.Jones/coursework/mito.fasta\n",
        "!wget http://www.cs.ucl.ac.uk/staff/D.Jones/coursework/nucleus.fasta\n",
        "!wget http://www.cs.ucl.ac.uk/staff/D.Jones/coursework/blind.fasta"
      ],
      "execution_count": 7,
      "outputs": [
        {
          "output_type": "stream",
          "text": [
            "--2019-03-29 08:18:10--  http://www.cs.ucl.ac.uk/staff/D.Jones/coursework/cyto.fasta\n",
            "Resolving www.cs.ucl.ac.uk (www.cs.ucl.ac.uk)... 128.16.10.31\n",
            "Connecting to www.cs.ucl.ac.uk (www.cs.ucl.ac.uk)|128.16.10.31|:80... connected.\n",
            "HTTP request sent, awaiting response... 301 Moved Permanently\n",
            "Location: http://www0.cs.ucl.ac.uk/staff/D.Jones/coursework/cyto.fasta [following]\n",
            "--2019-03-29 08:18:11--  http://www0.cs.ucl.ac.uk/staff/D.Jones/coursework/cyto.fasta\n",
            "Resolving www0.cs.ucl.ac.uk (www0.cs.ucl.ac.uk)... 128.16.6.8\n",
            "Connecting to www0.cs.ucl.ac.uk (www0.cs.ucl.ac.uk)|128.16.6.8|:80... connected.\n",
            "HTTP request sent, awaiting response... 200 Document follows\n",
            "Length: 2350203 (2.2M) [text/plain]\n",
            "Saving to: ‘cyto.fasta’\n",
            "\n",
            "cyto.fasta          100%[===================>]   2.24M  15.6KB/s    in 2m 26s  \n",
            "\n",
            "2019-03-29 08:20:39 (15.7 KB/s) - ‘cyto.fasta’ saved [2350203/2350203]\n",
            "\n",
            "--2019-03-29 08:20:46--  http://www.cs.ucl.ac.uk/staff/D.Jones/coursework/secreted.fasta\n",
            "Resolving www.cs.ucl.ac.uk (www.cs.ucl.ac.uk)... 128.16.10.31\n",
            "Connecting to www.cs.ucl.ac.uk (www.cs.ucl.ac.uk)|128.16.10.31|:80... connected.\n",
            "HTTP request sent, awaiting response... 301 Moved Permanently\n",
            "Location: http://www0.cs.ucl.ac.uk/staff/D.Jones/coursework/secreted.fasta [following]\n",
            "--2019-03-29 08:20:46--  http://www0.cs.ucl.ac.uk/staff/D.Jones/coursework/secreted.fasta\n",
            "Resolving www0.cs.ucl.ac.uk (www0.cs.ucl.ac.uk)... 128.16.6.8\n",
            "Connecting to www0.cs.ucl.ac.uk (www0.cs.ucl.ac.uk)|128.16.6.8|:80... connected.\n",
            "HTTP request sent, awaiting response... 200 Document follows\n",
            "Length: 637227 (622K) [text/plain]\n",
            "Saving to: ‘secreted.fasta’\n",
            "\n",
            "secreted.fasta      100%[===================>] 622.29K  15.7KB/s    in 40s     \n",
            "\n",
            "2019-03-29 08:21:27 (15.6 KB/s) - ‘secreted.fasta’ saved [637227/637227]\n",
            "\n",
            "--2019-03-29 08:21:34--  http://www.cs.ucl.ac.uk/staff/D.Jones/coursework/mito.fasta\n",
            "Resolving www.cs.ucl.ac.uk (www.cs.ucl.ac.uk)... 128.16.10.31\n",
            "Connecting to www.cs.ucl.ac.uk (www.cs.ucl.ac.uk)|128.16.10.31|:80... connected.\n",
            "HTTP request sent, awaiting response... 301 Moved Permanently\n",
            "Location: http://www0.cs.ucl.ac.uk/staff/D.Jones/coursework/mito.fasta [following]\n",
            "--2019-03-29 08:21:34--  http://www0.cs.ucl.ac.uk/staff/D.Jones/coursework/mito.fasta\n",
            "Resolving www0.cs.ucl.ac.uk (www0.cs.ucl.ac.uk)... 128.16.6.8\n",
            "Connecting to www0.cs.ucl.ac.uk (www0.cs.ucl.ac.uk)|128.16.6.8|:80... connected.\n",
            "HTTP request sent, awaiting response... 200 Document follows\n",
            "Length: 657556 (642K) [text/plain]\n",
            "Saving to: ‘mito.fasta’\n",
            "\n",
            "mito.fasta          100%[===================>] 642.14K  15.7KB/s    in 41s     \n",
            "\n",
            "2019-03-29 08:22:17 (15.6 KB/s) - ‘mito.fasta’ saved [657556/657556]\n",
            "\n",
            "--2019-03-29 08:22:21--  http://www.cs.ucl.ac.uk/staff/D.Jones/coursework/nucleus.fasta\n",
            "Resolving www.cs.ucl.ac.uk (www.cs.ucl.ac.uk)... 128.16.10.31\n",
            "Connecting to www.cs.ucl.ac.uk (www.cs.ucl.ac.uk)|128.16.10.31|:80... connected.\n",
            "HTTP request sent, awaiting response... 301 Moved Permanently\n",
            "Location: http://www0.cs.ucl.ac.uk/staff/D.Jones/coursework/nucleus.fasta [following]\n",
            "--2019-03-29 08:22:21--  http://www0.cs.ucl.ac.uk/staff/D.Jones/coursework/nucleus.fasta\n",
            "Resolving www0.cs.ucl.ac.uk (www0.cs.ucl.ac.uk)... 128.16.6.8\n",
            "Connecting to www0.cs.ucl.ac.uk (www0.cs.ucl.ac.uk)|128.16.6.8|:80... connected.\n",
            "HTTP request sent, awaiting response... 200 Document follows\n",
            "Length: 2460360 (2.3M) [text/plain]\n",
            "Saving to: ‘nucleus.fasta’\n",
            "\n",
            "nucleus.fasta       100%[===================>]   2.35M  15.8KB/s    in 2m 33s  \n",
            "\n",
            "2019-03-29 08:24:55 (15.7 KB/s) - ‘nucleus.fasta’ saved [2460360/2460360]\n",
            "\n",
            "--2019-03-29 08:24:59--  http://www.cs.ucl.ac.uk/staff/D.Jones/coursework/blind.fasta\n",
            "Resolving www.cs.ucl.ac.uk (www.cs.ucl.ac.uk)... 128.16.10.31\n",
            "Connecting to www.cs.ucl.ac.uk (www.cs.ucl.ac.uk)|128.16.10.31|:80... connected.\n",
            "HTTP request sent, awaiting response... 301 Moved Permanently\n",
            "Location: http://www0.cs.ucl.ac.uk/staff/D.Jones/coursework/blind.fasta [following]\n",
            "--2019-03-29 08:24:59--  http://www0.cs.ucl.ac.uk/staff/D.Jones/coursework/blind.fasta\n",
            "Resolving www0.cs.ucl.ac.uk (www0.cs.ucl.ac.uk)... 128.16.6.8\n",
            "Connecting to www0.cs.ucl.ac.uk (www0.cs.ucl.ac.uk)|128.16.6.8|:80... connected.\n",
            "HTTP request sent, awaiting response... 200 Document follows\n",
            "Length: 11285 (11K) [text/plain]\n",
            "Saving to: ‘blind.fasta’\n",
            "\n",
            "blind.fasta         100%[===================>]  11.02K  10.8KB/s    in 1.0s    \n",
            "\n",
            "2019-03-29 08:25:01 (10.8 KB/s) - ‘blind.fasta’ saved [11285/11285]\n",
            "\n"
          ],
          "name": "stdout"
        }
      ]
    },
    {
      "metadata": {
        "id": "iowRfma_HE-h",
        "colab_type": "text"
      },
      "cell_type": "markdown",
      "source": [
        "#Construct dataset"
      ]
    },
    {
      "metadata": {
        "id": "VazQ_UixHCYx",
        "colab_type": "code",
        "colab": {
          "base_uri": "https://localhost:8080/",
          "height": 532
        },
        "outputId": "2646ad76-de52-4b4f-f530-e19e7aa0b2f3"
      },
      "cell_type": "code",
      "source": [
        "\n",
        "###\n",
        "# Gather label data and vocabulary range, check maximal sequence.\n",
        "###\n",
        "Y = []\n",
        "chas = []\n",
        "max_len = 0\n",
        "lengths = []\n",
        "files = ['cyto.fasta','mito.fasta','nucleus.fasta','secreted.fasta']\n",
        "typ = ['cyt','mit','nuc','sec']\n",
        "Y =np.zeros((9222,4)) # One hot encoding\n",
        "Y_tag = np.zeros(9222) # Class numeric representation\n",
        "lables = [[1,0,0,0],[0,1,0,0],[0,0,1,0],[0,0,0,1]]\n",
        "count = 0\n",
        "for i in range(4):\n",
        "    file = files[i]\n",
        "    with open(file, 'r') as myfile:\n",
        "        dat=myfile.read()\n",
        "    dat = dat.split('>')\n",
        "    dat = dat[1:]\n",
        "    for p in range(len(dat)):\n",
        "        x = (dat[p].split('\\n'))\n",
        "        x = x[1:-1]\n",
        "        x = ''.join(x)\n",
        "        for c in x:\n",
        "            if not c in chas:\n",
        "                chas.append(c)\n",
        "        lengths.append(len(x))\n",
        "        if(len(x)>0):\n",
        "            #X.append(x)\n",
        "            Y[count,:] = lables[i]\n",
        "            Y_tag[count] = i\n",
        "            count +=1\n",
        "            if(len(x)>max_len):\n",
        "              max_len = len(x)\n",
        "              \n",
        "              \n",
        "###\n",
        "# Gather protein sequential data \n",
        "# convert to numeric representation\n",
        "###             \n",
        "count = 0\n",
        "X = np.zeros((9222,max_len)) \n",
        "for i in range(4):\n",
        "    file = files[i]\n",
        "    with open(file, 'r') as myfile:\n",
        "        dat=myfile.read()\n",
        "    dat = dat.split('>')\n",
        "    dat = dat[1:]\n",
        "    for p in range(len(dat)):\n",
        "        x = (dat[p].split('\\n'))\n",
        "        x = x[1:-1]\n",
        "        x = ''.join(x)\n",
        "        if(len(x)>0):\n",
        "          for ch in range(len(x)):\n",
        "            ind = chas.index(x[ch]) + 1 # shift by one, taking padding value into account\n",
        "            X[count,ch] = ind \n",
        "          count +=1\n",
        "          \n",
        "          \n",
        "          \n",
        "#Merge [X,Y] -> shufle -> split back  \n",
        "data_tree = np.concatenate((X,Y_tag.reshape((9222,1))),axis = 1)\n",
        "np.random.shuffle(data_tree)\n",
        "X_tree = data_tree[:,:13100]\n",
        "Y_tree = data_tree[:,-1:]\n",
        "#Merge [X,Y] -> shufle -> split back for one hot encodings (needed for ANN and LSTM)\n",
        "data = np.concatenate((X,Y),axis = 1)\n",
        "np.random.shuffle(data)\n",
        "Xx = data[:,:13100]\n",
        "Yy = data[:,-4:]\n",
        "\n",
        "#Alocate resources, not enough ram otherwise\n",
        "\n",
        "          \n",
        "num = 8000 # arbitrary protein for inspection\n",
        "print('~~~~~~~')\n",
        "print(len(X),len(Y),' sanity check')\n",
        "print(len(chas),'unique symbols')\n",
        "print(chas)\n",
        "lengths = np.array(lengths)\n",
        "print('Max length: {1}, Avg length: {0} , STD: {2}'.format(lengths.mean(),lengths.max(),lengths.std()))\n",
        "print(X[num])\n",
        "print(Y[num])\n",
        "print(Y_tag[num])\n",
        "print('~~~~~~~')\n",
        "\n",
        "\n",
        "\n",
        "length_count = np.zeros(13100)\n",
        "for i in lengths:\n",
        "    length_count[i-1] += 1\n",
        "plt.bar(range(13100),length_count)\n",
        "plt.title('Length frequency')\n",
        "\n",
        "\n",
        "del data\n",
        "del data_tree\n",
        "del X\n",
        "del Y\n",
        "del lengths\n",
        "gc.collect()"
      ],
      "execution_count": 8,
      "outputs": [
        {
          "output_type": "stream",
          "text": [
            "~~~~~~~\n",
            "9222 9222  sanity check\n",
            "23 unique symbols\n",
            "['M', 'G', 'Q', 'V', 'R', 'E', 'A', 'P', 'L', 'I', 'S', 'D', 'T', 'F', 'N', 'H', 'C', 'K', 'W', 'Y', 'X', 'U', 'B']\n",
            "Max length: 13100, Avg length: 546.613375243876 , STD: 514.3080288377134\n",
            "[ 1. 18. 20. ...  0.  0.  0.]\n",
            "[0. 0. 0. 1.]\n",
            "3.0\n",
            "~~~~~~~\n"
          ],
          "name": "stdout"
        },
        {
          "output_type": "execute_result",
          "data": {
            "text/plain": [
              "0"
            ]
          },
          "metadata": {
            "tags": []
          },
          "execution_count": 8
        },
        {
          "output_type": "display_data",
          "data": {
            "image/png": "[encoded data removed]",
            "text/plain": [
              "<Figure size 576x396 with 1 Axes>"
            ]
          },
          "metadata": {
            "tags": []
          }
        }
      ]
    },
    {
      "metadata": {
        "id": "VpPxS23oJ0DD",
        "colab_type": "text"
      },
      "cell_type": "markdown",
      "source": [
        "#decision tree classifier"
      ]
    },
    {
      "metadata": {
        "id": "I28vXie-J-Mf",
        "colab_type": "code",
        "colab": {
          "base_uri": "https://localhost:8080/",
          "height": 34
        },
        "outputId": "c38dff7b-14a8-41ce-cbe8-74fd5ac24e79"
      },
      "cell_type": "code",
      "source": [
        "clf = tree.DecisionTreeClassifier()\n",
        "clf = clf.fit(X_tree, Y_tree)\n",
        "X_train, X_test, y_train, y_test = train_test_split(X_tree, Y_tree, test_size = 0.8, random_state = 100)\n",
        "clf_entropy = DecisionTreeClassifier(criterion = \"entropy\", random_state = 100,\n",
        " max_depth=4, min_samples_leaf=6)\n",
        "clf_entropy.fit(X_train, y_train)\n",
        "y_pred = clf_entropy.predict(X_test)\n",
        "print( \"Accuracy is \", accuracy_score(y_test,y_pred)*100,' %')"
      ],
      "execution_count": 12,
      "outputs": [
        {
          "output_type": "stream",
          "text": [
            "Accuracy is  42.952019517484416  %\n"
          ],
          "name": "stdout"
        }
      ]
    },
    {
      "metadata": {
        "id": "A-yiG-onK7Mn",
        "colab_type": "text"
      },
      "cell_type": "markdown",
      "source": [
        "#Feed forward NN with dropots and batch normalization"
      ]
    },
    {
      "metadata": {
        "id": "4rnsT09MLEfp",
        "colab_type": "code",
        "colab": {
          "base_uri": "https://localhost:8080/",
          "height": 374
        },
        "outputId": "07ce6358-3523-4435-aefc-a0ff413b8e90"
      },
      "cell_type": "code",
      "source": [
        "#Build and compile model\n",
        "model1 = Sequential()\n",
        "model1.add(Dense(256, input_shape=(13100,),activation=\"relu\"))\n",
        "model1.add(BatchNormalization())\n",
        "model1.add(Dropout(0.8))\n",
        "model1.add(Dense(32, activation=\"relu\"))\n",
        "model1.add(BatchNormalization())\n",
        "model1.add(Dropout(0.7))\n",
        "model1.add(Dense(4, activation=\"sigmoid\"))\n",
        "\n",
        "opti = optimizers.adam(0.0001)\n",
        "model1.compile(loss='binary_crossentropy', optimizer='adam', metrics=['accuracy'])\n",
        "\n",
        "model1.summary()"
      ],
      "execution_count": 9,
      "outputs": [
        {
          "output_type": "stream",
          "text": [
            "_________________________________________________________________\n",
            "Layer (type)                 Output Shape              Param #   \n",
            "=================================================================\n",
            "dense_4 (Dense)              (None, 256)               3353856   \n",
            "_________________________________________________________________\n",
            "batch_normalization_3 (Batch (None, 256)               1024      \n",
            "_________________________________________________________________\n",
            "dropout_3 (Dropout)          (None, 256)               0         \n",
            "_________________________________________________________________\n",
            "dense_5 (Dense)              (None, 32)                8224      \n",
            "_________________________________________________________________\n",
            "batch_normalization_4 (Batch (None, 32)                128       \n",
            "_________________________________________________________________\n",
            "dropout_4 (Dropout)          (None, 32)                0         \n",
            "_________________________________________________________________\n",
            "dense_6 (Dense)              (None, 4)                 132       \n",
            "=================================================================\n",
            "Total params: 3,363,364\n",
            "Trainable params: 3,362,788\n",
            "Non-trainable params: 576\n",
            "_________________________________________________________________\n"
          ],
          "name": "stdout"
        }
      ]
    },
    {
      "metadata": {
        "id": "sbSK7UecLS5o",
        "colab_type": "code",
        "colab": {
          "base_uri": "https://localhost:8080/",
          "height": 1805
        },
        "outputId": "499cdf20-628e-4730-964b-24cad5217d76"
      },
      "cell_type": "code",
      "source": [
        "history = model1.fit(Xx, Yy, validation_split=0.3, epochs=50, batch_size=256)"
      ],
      "execution_count": 10,
      "outputs": [
        {
          "output_type": "stream",
          "text": [
            "WARNING:tensorflow:From /usr/local/lib/python3.6/dist-packages/tensorflow/python/ops/math_ops.py:3066: to_int32 (from tensorflow.python.ops.math_ops) is deprecated and will be removed in a future version.\n",
            "Instructions for updating:\n",
            "Use tf.cast instead.\n",
            "Train on 6455 samples, validate on 2767 samples\n",
            "Epoch 1/50\n",
            "6455/6455 [==============================] - 4s 679us/step - loss: 1.0003 - acc: 0.5008 - val_loss: 0.7225 - val_acc: 0.5519\n",
            "Epoch 2/50\n",
            "6455/6455 [==============================] - 1s 167us/step - loss: 0.8702 - acc: 0.5210 - val_loss: 0.7097 - val_acc: 0.4900\n",
            "Epoch 3/50\n",
            "6455/6455 [==============================] - 1s 168us/step - loss: 0.7896 - acc: 0.5547 - val_loss: 0.6660 - val_acc: 0.5941\n",
            "Epoch 4/50\n",
            "6455/6455 [==============================] - 1s 169us/step - loss: 0.7311 - acc: 0.5777 - val_loss: 0.6366 - val_acc: 0.6126\n",
            "Epoch 5/50\n",
            "6455/6455 [==============================] - 1s 167us/step - loss: 0.6991 - acc: 0.6090 - val_loss: 0.6059 - val_acc: 0.6382\n",
            "Epoch 6/50\n",
            "6455/6455 [==============================] - 1s 169us/step - loss: 0.6620 - acc: 0.6440 - val_loss: 0.5869 - val_acc: 0.6941\n",
            "Epoch 7/50\n",
            "6455/6455 [==============================] - 1s 168us/step - loss: 0.6388 - acc: 0.6660 - val_loss: 0.5681 - val_acc: 0.7166\n",
            "Epoch 8/50\n",
            "6455/6455 [==============================] - 1s 168us/step - loss: 0.6192 - acc: 0.6907 - val_loss: 0.5584 - val_acc: 0.7215\n",
            "Epoch 9/50\n",
            "6455/6455 [==============================] - 1s 168us/step - loss: 0.6050 - acc: 0.7030 - val_loss: 0.5429 - val_acc: 0.7406\n",
            "Epoch 10/50\n",
            "6455/6455 [==============================] - 1s 169us/step - loss: 0.5790 - acc: 0.7187 - val_loss: 0.5339 - val_acc: 0.7582\n",
            "Epoch 11/50\n",
            "6455/6455 [==============================] - 1s 170us/step - loss: 0.5795 - acc: 0.7268 - val_loss: 0.5253 - val_acc: 0.7609\n",
            "Epoch 12/50\n",
            "6455/6455 [==============================] - 1s 168us/step - loss: 0.5687 - acc: 0.7353 - val_loss: 0.5207 - val_acc: 0.7612\n",
            "Epoch 13/50\n",
            "6455/6455 [==============================] - 1s 172us/step - loss: 0.5540 - acc: 0.7424 - val_loss: 0.5145 - val_acc: 0.7607\n",
            "Epoch 14/50\n",
            "6455/6455 [==============================] - 1s 169us/step - loss: 0.5554 - acc: 0.7439 - val_loss: 0.5107 - val_acc: 0.7609\n",
            "Epoch 15/50\n",
            "6455/6455 [==============================] - 1s 170us/step - loss: 0.5436 - acc: 0.7501 - val_loss: 0.5065 - val_acc: 0.7598\n",
            "Epoch 16/50\n",
            "6455/6455 [==============================] - 1s 172us/step - loss: 0.5393 - acc: 0.7500 - val_loss: 0.5037 - val_acc: 0.7608\n",
            "Epoch 17/50\n",
            "6455/6455 [==============================] - 1s 170us/step - loss: 0.5353 - acc: 0.7531 - val_loss: 0.5009 - val_acc: 0.7605\n",
            "Epoch 18/50\n",
            "6455/6455 [==============================] - 1s 170us/step - loss: 0.5344 - acc: 0.7521 - val_loss: 0.5001 - val_acc: 0.7607\n",
            "Epoch 19/50\n",
            "6455/6455 [==============================] - 1s 170us/step - loss: 0.5302 - acc: 0.7551 - val_loss: 0.4977 - val_acc: 0.7609\n",
            "Epoch 20/50\n",
            "6455/6455 [==============================] - 1s 171us/step - loss: 0.5312 - acc: 0.7548 - val_loss: 0.4969 - val_acc: 0.7617\n",
            "Epoch 21/50\n",
            "6455/6455 [==============================] - 1s 171us/step - loss: 0.5311 - acc: 0.7569 - val_loss: 0.4950 - val_acc: 0.7606\n",
            "Epoch 22/50\n",
            "6455/6455 [==============================] - 1s 170us/step - loss: 0.5290 - acc: 0.7562 - val_loss: 0.4955 - val_acc: 0.7617\n",
            "Epoch 23/50\n",
            "6455/6455 [==============================] - 1s 169us/step - loss: 0.5215 - acc: 0.7579 - val_loss: 0.4953 - val_acc: 0.7615\n",
            "Epoch 24/50\n",
            "6455/6455 [==============================] - 1s 171us/step - loss: 0.5183 - acc: 0.7586 - val_loss: 0.4955 - val_acc: 0.7617\n",
            "Epoch 25/50\n",
            "6455/6455 [==============================] - 1s 172us/step - loss: 0.5211 - acc: 0.7593 - val_loss: 0.4945 - val_acc: 0.7619\n",
            "Epoch 26/50\n",
            "6455/6455 [==============================] - 1s 169us/step - loss: 0.5210 - acc: 0.7588 - val_loss: 0.4932 - val_acc: 0.7625\n",
            "Epoch 27/50\n",
            "6455/6455 [==============================] - 1s 170us/step - loss: 0.5155 - acc: 0.7594 - val_loss: 0.4935 - val_acc: 0.7619\n",
            "Epoch 28/50\n",
            "6455/6455 [==============================] - 1s 172us/step - loss: 0.5163 - acc: 0.7585 - val_loss: 0.4941 - val_acc: 0.7617\n",
            "Epoch 29/50\n",
            "6455/6455 [==============================] - 1s 167us/step - loss: 0.5168 - acc: 0.7581 - val_loss: 0.4934 - val_acc: 0.7618\n",
            "Epoch 30/50\n",
            "6455/6455 [==============================] - 1s 171us/step - loss: 0.5175 - acc: 0.7581 - val_loss: 0.4934 - val_acc: 0.7624\n",
            "Epoch 31/50\n",
            "6455/6455 [==============================] - 1s 168us/step - loss: 0.5141 - acc: 0.7582 - val_loss: 0.4919 - val_acc: 0.7631\n",
            "Epoch 32/50\n",
            "6455/6455 [==============================] - 1s 171us/step - loss: 0.5136 - acc: 0.7594 - val_loss: 0.4934 - val_acc: 0.7625\n",
            "Epoch 33/50\n",
            "6455/6455 [==============================] - 1s 171us/step - loss: 0.5126 - acc: 0.7585 - val_loss: 0.4936 - val_acc: 0.7618\n",
            "Epoch 34/50\n",
            "6455/6455 [==============================] - 1s 170us/step - loss: 0.5132 - acc: 0.7582 - val_loss: 0.4921 - val_acc: 0.7632\n",
            "Epoch 35/50\n",
            "6455/6455 [==============================] - 1s 169us/step - loss: 0.5114 - acc: 0.7596 - val_loss: 0.4923 - val_acc: 0.7632\n",
            "Epoch 36/50\n",
            "6455/6455 [==============================] - 1s 170us/step - loss: 0.5082 - acc: 0.7596 - val_loss: 0.4917 - val_acc: 0.7630\n",
            "Epoch 37/50\n",
            "6455/6455 [==============================] - 1s 169us/step - loss: 0.5086 - acc: 0.7600 - val_loss: 0.4917 - val_acc: 0.7626\n",
            "Epoch 38/50\n",
            "6455/6455 [==============================] - 1s 169us/step - loss: 0.5094 - acc: 0.7584 - val_loss: 0.4916 - val_acc: 0.7625\n",
            "Epoch 39/50\n",
            "6455/6455 [==============================] - 1s 171us/step - loss: 0.5089 - acc: 0.7598 - val_loss: 0.4907 - val_acc: 0.7624\n",
            "Epoch 40/50\n",
            "6455/6455 [==============================] - 1s 170us/step - loss: 0.5057 - acc: 0.7610 - val_loss: 0.4905 - val_acc: 0.7630\n",
            "Epoch 41/50\n",
            "6455/6455 [==============================] - 1s 171us/step - loss: 0.5046 - acc: 0.7610 - val_loss: 0.4906 - val_acc: 0.7632\n",
            "Epoch 42/50\n",
            "6455/6455 [==============================] - 1s 170us/step - loss: 0.5063 - acc: 0.7603 - val_loss: 0.4901 - val_acc: 0.7628\n",
            "Epoch 43/50\n",
            "6455/6455 [==============================] - 1s 169us/step - loss: 0.5047 - acc: 0.7613 - val_loss: 0.4909 - val_acc: 0.7628\n",
            "Epoch 44/50\n",
            "6455/6455 [==============================] - 1s 169us/step - loss: 0.5022 - acc: 0.7614 - val_loss: 0.4908 - val_acc: 0.7631\n",
            "Epoch 45/50\n",
            "6455/6455 [==============================] - 1s 171us/step - loss: 0.5025 - acc: 0.7604 - val_loss: 0.4895 - val_acc: 0.7625\n",
            "Epoch 46/50\n",
            "6455/6455 [==============================] - 1s 168us/step - loss: 0.5012 - acc: 0.7607 - val_loss: 0.4888 - val_acc: 0.7631\n",
            "Epoch 47/50\n",
            "6455/6455 [==============================] - 1s 171us/step - loss: 0.5059 - acc: 0.7605 - val_loss: 0.4894 - val_acc: 0.7629\n",
            "Epoch 48/50\n",
            "6455/6455 [==============================] - 1s 168us/step - loss: 0.4991 - acc: 0.7611 - val_loss: 0.4881 - val_acc: 0.7633\n",
            "Epoch 49/50\n",
            "6455/6455 [==============================] - 1s 168us/step - loss: 0.4998 - acc: 0.7593 - val_loss: 0.4903 - val_acc: 0.7630\n",
            "Epoch 50/50\n",
            "6455/6455 [==============================] - 1s 169us/step - loss: 0.5015 - acc: 0.7610 - val_loss: 0.4900 - val_acc: 0.7634\n"
          ],
          "name": "stdout"
        }
      ]
    },
    {
      "metadata": {
        "id": "3wfq2PN0PJ96",
        "colab_type": "code",
        "colab": {
          "base_uri": "https://localhost:8080/",
          "height": 379
        },
        "outputId": "68557a68-28c2-45c5-9be4-e57d37dfce07"
      },
      "cell_type": "code",
      "source": [
        "plt.plot(history.history['acc'])\n",
        "plt.plot(history.history['val_acc'])\n",
        "plt.legend(['train accuracy','test accuracy'])\n",
        "plt.title('Accuracy over training epochs')\n",
        "plt.show()\n",
        "print('Validation acuracy after training: ',history.history['val_acc'][-1])"
      ],
      "execution_count": 11,
      "outputs": [
        {
          "output_type": "display_data",
          "data": {
            "image/png": "[encoded data removed]",
            "text/plain": [
              "<Figure size 576x396 with 1 Axes>"
            ]
          },
          "metadata": {
            "tags": []
          }
        },
        {
          "output_type": "stream",
          "text": [
            "Validation acuracy after training:  0.7633718825179314\n"
          ],
          "name": "stdout"
        }
      ]
    },
    {
      "metadata": {
        "id": "rJySdskaPKvJ",
        "colab_type": "code",
        "colab": {
          "base_uri": "https://localhost:8080/",
          "height": 362
        },
        "outputId": "9982fb9e-5eae-4af1-da39-b1170cf4ec93"
      },
      "cell_type": "code",
      "source": [
        "plt.plot(history.history['loss'])\n",
        "plt.plot(history.history['val_loss'])\n",
        "plt.legend(['train loss','test loss'])\n",
        "plt.title('Loss over training epochs')\n",
        "plt.show()"
      ],
      "execution_count": 12,
      "outputs": [
        {
          "output_type": "display_data",
          "data": {
            "image/png": "[encoded data removed]",
            "text/plain": [
              "<Figure size 576x396 with 1 Axes>"
            ]
          },
          "metadata": {
            "tags": []
          }
        }
      ]
    },
    {
      "metadata": {
        "id": "YUMgKlKsP5eg",
        "colab_type": "text"
      },
      "cell_type": "markdown",
      "source": [
        "#LSTM"
      ]
    },
    {
      "metadata": {
        "id": "w5MaButRPeA9",
        "colab_type": "code",
        "colab": {
          "base_uri": "https://localhost:8080/",
          "height": 306
        },
        "outputId": "bfd65235-be90-4ae3-a5d0-d47656880d19"
      },
      "cell_type": "code",
      "source": [
        "model2 = Sequential()\n",
        "model2.add(Embedding(input_dim=24,output_dim=4,input_length=13100))\n",
        "model2.add(LSTM(64))\n",
        "model2.add(BatchNormalization())\n",
        "model2.add(Dropout(0.8))\n",
        "model2.add(Dense(4, activation=\"sigmoid\"))\n",
        "\n",
        "\n",
        "opti = optimizers.adam(0.0001)\n",
        "model2.compile(loss='binary_crossentropy', optimizer=opti, metrics=['accuracy'])\n",
        "\n",
        "\n",
        "model2.summary()"
      ],
      "execution_count": 29,
      "outputs": [
        {
          "output_type": "stream",
          "text": [
            "_________________________________________________________________\n",
            "Layer (type)                 Output Shape              Param #   \n",
            "=================================================================\n",
            "embedding_1 (Embedding)      (None, 13100, 4)          96        \n",
            "_________________________________________________________________\n",
            "lstm_1 (LSTM)                (None, 64)                17664     \n",
            "_________________________________________________________________\n",
            "batch_normalization_5 (Batch (None, 64)                256       \n",
            "_________________________________________________________________\n",
            "dropout_5 (Dropout)          (None, 64)                0         \n",
            "_________________________________________________________________\n",
            "dense_7 (Dense)              (None, 4)                 260       \n",
            "=================================================================\n",
            "Total params: 18,276\n",
            "Trainable params: 18,148\n",
            "Non-trainable params: 128\n",
            "_________________________________________________________________\n"
          ],
          "name": "stdout"
        }
      ]
    },
    {
      "metadata": {
        "id": "EsE129A_QI3d",
        "colab_type": "code",
        "colab": {
          "base_uri": "https://localhost:8080/",
          "height": 204
        },
        "outputId": "aba1f8ec-243d-44ec-a4fb-e81bef6d14a7"
      },
      "cell_type": "code",
      "source": [
        "history2 = model2.fit(Xx, Yy, validation_split=0.2, epochs=5, batch_size=256)"
      ],
      "execution_count": 30,
      "outputs": [
        {
          "output_type": "stream",
          "text": [
            "Train on 7377 samples, validate on 1845 samples\n",
            "Epoch 1/5\n",
            "7377/7377 [==============================] - 969s 131ms/step - loss: 0.6912 - acc: 0.7376 - val_loss: 0.6881 - val_acc: 0.7500\n",
            "Epoch 2/5\n",
            "7377/7377 [==============================] - 958s 130ms/step - loss: 0.6869 - acc: 0.7443 - val_loss: 0.6840 - val_acc: 0.7500\n",
            "Epoch 3/5\n",
            "7377/7377 [==============================] - 958s 130ms/step - loss: 0.6824 - acc: 0.7453 - val_loss: 0.6819 - val_acc: 0.7500\n",
            "Epoch 4/5\n",
            "7377/7377 [==============================] - 967s 131ms/step - loss: 0.6775 - acc: 0.7444 - val_loss: 0.6792 - val_acc: 0.7500\n",
            "Epoch 5/5\n",
            "7377/7377 [==============================] - 960s 130ms/step - loss: 0.6724 - acc: 0.7460 - val_loss: 0.6726 - val_acc: 0.7500\n"
          ],
          "name": "stdout"
        }
      ]
    },
    {
      "metadata": {
        "id": "45IdX-t2TUCe",
        "colab_type": "code",
        "colab": {
          "base_uri": "https://localhost:8080/",
          "height": 379
        },
        "outputId": "a7c59e76-ee84-461f-c014-cb783cefece2"
      },
      "cell_type": "code",
      "source": [
        "plt.plot(history2.history['acc'])\n",
        "plt.plot(history2.history['val_acc'])\n",
        "plt.legend(['train accuracy','test accuracy'])\n",
        "plt.title('Accuracy over training epochs')\n",
        "plt.show()\n",
        "print('Validation acuracy after training: ',history2.history['val_acc'][-1])"
      ],
      "execution_count": 32,
      "outputs": [
        {
          "output_type": "display_data",
          "data": {
            "image/png": "[encoded data removed]",
            "text/plain": [
              "<Figure size 576x396 with 1 Axes>"
            ]
          },
          "metadata": {
            "tags": []
          }
        },
        {
          "output_type": "stream",
          "text": [
            "Validation acuracy after training:  0.75\n"
          ],
          "name": "stdout"
        }
      ]
    },
    {
      "metadata": {
        "id": "RPcvAIG5TUaI",
        "colab_type": "code",
        "colab": {
          "base_uri": "https://localhost:8080/",
          "height": 362
        },
        "outputId": "79d847b2-aef5-4452-a222-26f9a97fd570"
      },
      "cell_type": "code",
      "source": [
        "['acc', 'loss', 'val_acc', 'val_loss']\n",
        "plt.plot(history2.history['loss'])\n",
        "plt.plot(history2.history['val_loss'])\n",
        "plt.legend(['train loss','test loss'])\n",
        "plt.title('Loss over training epochs')\n",
        "plt.show()"
      ],
      "execution_count": 33,
      "outputs": [
        {
          "output_type": "display_data",
          "data": {
            "image/png": "[encoded data removed]",
            "text/plain": [
              "<Figure size 576x396 with 1 Axes>"
            ]
          },
          "metadata": {
            "tags": []
          }
        }
      ]
    },
    {
      "metadata": {
        "id": "Tlrrq5i-VOi_",
        "colab_type": "text"
      },
      "cell_type": "markdown",
      "source": [
        "#Load test data"
      ]
    },
    {
      "metadata": {
        "id": "5fgd9ecXVNva",
        "colab_type": "code",
        "colab": {
          "base_uri": "https://localhost:8080/",
          "height": 136
        },
        "outputId": "0039a279-810d-46a0-dbaa-c4519b15ca13"
      },
      "cell_type": "code",
      "source": [
        "X_test = np.zeros((20,max_len)) \n",
        "names = []\n",
        "count = 0\n",
        "with open('blind.fasta', 'r') as myfile:\n",
        "    dat=myfile.read()\n",
        "dat = dat.split('>')\n",
        "dat = dat[1:]\n",
        "for p in range(len(dat)):\n",
        "    x = (dat[p].split('\\n'))\n",
        "    names.append(x[0])\n",
        "    x = x[1:-1]\n",
        "    x = ''.join(x)\n",
        "    if(len(x)>0):\n",
        "      for ch in range(len(x)):\n",
        "        ind = chas.index(x[ch]) + 1 # shift by one, taking padding value into account\n",
        "        X_test[count,ch] = ind \n",
        "      count += 1\n",
        "print(X_test)"
      ],
      "execution_count": 22,
      "outputs": [
        {
          "output_type": "stream",
          "text": [
            "[[ 1.  6. 11. ...  0.  0.  0.]\n",
            " [ 1.  8.  2. ...  0.  0.  0.]\n",
            " [ 1. 12. 11. ...  0.  0.  0.]\n",
            " ...\n",
            " [ 1. 13. 13. ...  0.  0.  0.]\n",
            " [ 1. 15. 13. ...  0.  0.  0.]\n",
            " [ 1.  6.  2. ...  0.  0.  0.]]\n"
          ],
          "name": "stdout"
        }
      ]
    },
    {
      "metadata": {
        "id": "tnU073g1p4XO",
        "colab_type": "text"
      },
      "cell_type": "markdown",
      "source": [
        "#Predict using ANN"
      ]
    },
    {
      "metadata": {
        "id": "2jJk036Bb2Qo",
        "colab_type": "code",
        "colab": {
          "base_uri": "https://localhost:8080/",
          "height": 357
        },
        "outputId": "59d4b232-2c5f-4450-af2a-4ede1b37e349"
      },
      "cell_type": "code",
      "source": [
        "typs = ['Cytosolic','Mitochondrial','Nuclear','Secreted']\n",
        "pred = model1.predict(X_test)\n",
        "maxim = np.argmax(pred,axis = 1)\n",
        "for i in range(20):\n",
        "  name = names[i]\n",
        "  location =typs[ maxim[i] ]\n",
        "  conf = pred[i,maxim[i]]\n",
        "  print('{0}, {1}, {2}%'.format(name,location,100*conf))"
      ],
      "execution_count": 28,
      "outputs": [
        {
          "output_type": "stream",
          "text": [
            "SEQ677, Nuclear, 40.24902880191803%\n",
            "SEQ231, Nuclear, 38.49401772022247%\n",
            "SEQ871, Nuclear, 30.43905198574066%\n",
            "SEQ388, Nuclear, 40.06982147693634%\n",
            "SEQ122, Nuclear, 35.61663627624512%\n",
            "SEQ758, Nuclear, 41.794365644454956%\n",
            "SEQ333, Nuclear, 33.54942202568054%\n",
            "SEQ937, Nuclear, 41.05462729930878%\n",
            "SEQ351, Nuclear, 39.1254723072052%\n",
            "SEQ202, Nuclear, 32.38464891910553%\n",
            "SEQ608, Nuclear, 40.62413275241852%\n",
            "SEQ402, Nuclear, 36.101025342941284%\n",
            "SEQ433, Nuclear, 34.17188227176666%\n",
            "SEQ821, Nuclear, 41.619256138801575%\n",
            "SEQ322, Nuclear, 37.1283233165741%\n",
            "SEQ982, Secreted, 29.419875144958496%\n",
            "SEQ951, Nuclear, 41.04227423667908%\n",
            "SEQ173, Nuclear, 32.993677258491516%\n",
            "SEQ862, Nuclear, 42.24858283996582%\n",
            "SEQ224, Nuclear, 36.932557821273804%\n"
          ],
          "name": "stdout"
        }
      ]
    },
    {
      "metadata": {
        "id": "AwxbDeqY91Ez",
        "colab_type": "text"
      },
      "cell_type": "markdown",
      "source": [
        "#predict using LSTM"
      ]
    },
    {
      "metadata": {
        "id": "i2ZlcSY696Qq",
        "colab_type": "code",
        "colab": {
          "base_uri": "https://localhost:8080/",
          "height": 357
        },
        "outputId": "a50f6bea-6954-4757-a476-ac8c2de4c121"
      },
      "cell_type": "code",
      "source": [
        "typs = ['Cytosolic','Mitochondrial','Nuclear','Secreted']\n",
        "pred2 = model2.predict(X_test)\n",
        "maxim2 = np.argmax(pred2,axis = 1)\n",
        "for i in range(20):\n",
        "  name = names[i]\n",
        "  location =typs[ maxim2[i] ]\n",
        "  conf = pred2[i,maxim2[i]]\n",
        "  print('{0}, {1}, {2}%'.format(name,location,100*conf))"
      ],
      "execution_count": 34,
      "outputs": [
        {
          "output_type": "stream",
          "text": [
            "SEQ677, Nuclear, 48.766028881073%\n",
            "SEQ231, Nuclear, 48.766028881073%\n",
            "SEQ871, Nuclear, 48.766028881073%\n",
            "SEQ388, Nuclear, 48.766028881073%\n",
            "SEQ122, Nuclear, 48.766028881073%\n",
            "SEQ758, Nuclear, 48.766028881073%\n",
            "SEQ333, Nuclear, 48.766028881073%\n",
            "SEQ937, Nuclear, 48.766028881073%\n",
            "SEQ351, Nuclear, 48.766028881073%\n",
            "SEQ202, Nuclear, 48.766028881073%\n",
            "SEQ608, Nuclear, 48.766028881073%\n",
            "SEQ402, Nuclear, 48.766028881073%\n",
            "SEQ433, Nuclear, 48.766028881073%\n",
            "SEQ821, Nuclear, 48.766028881073%\n",
            "SEQ322, Nuclear, 48.766028881073%\n",
            "SEQ982, Nuclear, 48.766028881073%\n",
            "SEQ951, Nuclear, 48.766028881073%\n",
            "SEQ173, Nuclear, 48.766028881073%\n",
            "SEQ862, Nuclear, 48.766028881073%\n",
            "SEQ224, Nuclear, 48.766028881073%\n"
          ],
          "name": "stdout"
        }
      ]
    }
  ]
}